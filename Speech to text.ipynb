{
 "cells": [
  {
   "cell_type": "code",
   "execution_count": 1,
   "id": "7febca83",
   "metadata": {},
   "outputs": [
    {
     "name": "stderr",
     "output_type": "stream",
     "text": [
      "C:\\Users\\Sharvari Pradhan\\Anaconda\\lib\\site-packages\\pydub\\utils.py:170: RuntimeWarning: Couldn't find ffmpeg or avconv - defaulting to ffmpeg, but may not work\n",
      "  warn(\"Couldn't find ffmpeg or avconv - defaulting to ffmpeg, but may not work\", RuntimeWarning)\n"
     ]
    }
   ],
   "source": [
    "# importing libraries \n",
    "import speech_recognition as sr \n",
    "import os \n",
    "from pydub import AudioSegment\n",
    "from pydub.silence import split_on_silence"
   ]
  },
  {
   "cell_type": "code",
   "execution_count": 2,
   "id": "3030829d",
   "metadata": {},
   "outputs": [],
   "source": [
    "file=\"C:/Users/Sharvari Pradhan/Downloads/self-introduction-speech.wav\""
   ]
  },
  {
   "cell_type": "code",
   "execution_count": 3,
   "id": "c036216a",
   "metadata": {},
   "outputs": [],
   "source": [
    "# create a speech recognition object\n",
    "r=sr.Recognizer()"
   ]
  },
  {
   "cell_type": "code",
   "execution_count": 4,
   "id": "41d3e2be",
   "metadata": {},
   "outputs": [],
   "source": [
    "def speech_to_text(path):\n",
    "  \n",
    "    # open the audio file using pydub\n",
    "    sound = AudioSegment.from_wav(path)  \n",
    "    # split audio sound where silence is 500 miliseconds \n",
    "    chunks = split_on_silence(sound,\n",
    "        min_silence_len = 500,\n",
    "        silence_thresh = sound.dBFS-16,\n",
    "        keep_silence=500,\n",
    "    )\n",
    "    folder_name = \"split_audio\"\n",
    "    # create a directory to store the audio chunks\n",
    "    if not os.path.isdir(folder_name):\n",
    "        os.mkdir(folder_name)\n",
    "    whole_text = \"\"\n",
    " \n",
    "    for i, audio_chunk in enumerate(chunks, start=1):\n",
    "        # export audio chunk and save it\n",
    "        chunk_filename = os.path.join(folder_name, f\"chunk{i}.wav\")\n",
    "        audio_chunk.export(chunk_filename, format=\"wav\")\n",
    "       \n",
    "        with sr.AudioFile(chunk_filename) as source:\n",
    "            audio_listened = r.record(source)\n",
    "           \n",
    "            try:\n",
    "                text = r.recognize_google(audio_listened)\n",
    "            except sr.UnknownValueError as e:\n",
    "                print(\"Error:\", str(e))\n",
    "            else:\n",
    "                text = f\"{text.capitalize()}. \"\n",
    "                print(\"Line:\", text)\n",
    "                whole_text += text\n",
    "    # return the text \n",
    "    return whole_text"
   ]
  },
  {
   "cell_type": "code",
   "execution_count": 5,
   "id": "a594d9a0",
   "metadata": {},
   "outputs": [
    {
     "name": "stdout",
     "output_type": "stream",
     "text": [
      "Line: Hello my name is jason freeman i'm originally from denver colorado but was raised right here in knoxville tennessee today i'll be sharing a little bit more. \n",
      "Line: As i mentioned before i was raised the knoxville my elementary middle and high school are all within a 15-mile radius of the university of tennessee. \n",
      "Line: I've been playing sports since i was six years old which was a crucial part of my childhood and help me become who i am today i'm also very competitive person this help free the sense of self-esteem is at a very young age because i was going to sacrifice anything to win games and that reach my desired and results. \n",
      "Line: This. \n",
      "Line: Sense of selflessness would help me in the future when i became more interested in service. \n",
      "Line: My interest and intrigue the service group sewing chris's i would throw by my senior high school turn into passion i was involved with five service clubs within my for those two other in the community. \n",
      "Line: I received most school service. \n",
      "Line: Principal's award a service to humanities awards and other recognition given to me by my school as well my community for my efforts and passion in school and community service. \n",
      "Line: Lastly i would like to share my plans for the future. \n",
      "Line: Find a history major with a minor in secondary education. \n",
      "Line: I plan on becoming a history teacher and participating in the teachers for america program. \n",
      "Line: When you combine my love of history teaching and helping others my ankle however it's become a high school principal in this position i would love to remain heavily involved with student life. \n",
      "Line: Set today i've shared with you. \n",
      "Line: A little bit more about myself my interests and hobbies and finally my place with teacher thank you. \n",
      "\n",
      "Full text: Hello my name is jason freeman i'm originally from denver colorado but was raised right here in knoxville tennessee today i'll be sharing a little bit more. As i mentioned before i was raised the knoxville my elementary middle and high school are all within a 15-mile radius of the university of tennessee. I've been playing sports since i was six years old which was a crucial part of my childhood and help me become who i am today i'm also very competitive person this help free the sense of self-esteem is at a very young age because i was going to sacrifice anything to win games and that reach my desired and results. This. Sense of selflessness would help me in the future when i became more interested in service. My interest and intrigue the service group sewing chris's i would throw by my senior high school turn into passion i was involved with five service clubs within my for those two other in the community. I received most school service. Principal's award a service to humanities awards and other recognition given to me by my school as well my community for my efforts and passion in school and community service. Lastly i would like to share my plans for the future. Find a history major with a minor in secondary education. I plan on becoming a history teacher and participating in the teachers for america program. When you combine my love of history teaching and helping others my ankle however it's become a high school principal in this position i would love to remain heavily involved with student life. Set today i've shared with you. A little bit more about myself my interests and hobbies and finally my place with teacher thank you. \n"
     ]
    }
   ],
   "source": [
    "print(\"\\nFull text:\", speech_to_text(file))"
   ]
  }
 ],
 "metadata": {
  "kernelspec": {
   "display_name": "Python 3 (ipykernel)",
   "language": "python",
   "name": "python3"
  },
  "language_info": {
   "codemirror_mode": {
    "name": "ipython",
    "version": 3
   },
   "file_extension": ".py",
   "mimetype": "text/x-python",
   "name": "python",
   "nbconvert_exporter": "python",
   "pygments_lexer": "ipython3",
   "version": "3.8.12"
  }
 },
 "nbformat": 4,
 "nbformat_minor": 5
}
